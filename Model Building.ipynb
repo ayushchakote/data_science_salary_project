{
 "cells": [
  {
   "cell_type": "code",
   "execution_count": 1,
   "id": "e6a8bb3d",
   "metadata": {},
   "outputs": [],
   "source": [
    "import pandas as pd \n",
    "import matplotlib.pyplot as plt \n",
    "import numpy as np \n"
   ]
  },
  {
   "cell_type": "code",
   "execution_count": 2,
   "id": "820cdc1f",
   "metadata": {},
   "outputs": [],
   "source": [
    "df = pd.read_csv('salary_data_cleaned.csv')"
   ]
  },
  {
   "cell_type": "code",
   "execution_count": 3,
   "id": "ce4d56d9",
   "metadata": {},
   "outputs": [
    {
     "data": {
      "text/plain": [
       "Index(['Job Title', 'Salary Estimate', 'Job Description', 'Rating',\n",
       "       'Company Name', 'Location', 'Headquarters', 'Size', 'Founded',\n",
       "       'Type of ownership', 'Industry', 'Sector', 'Revenue', 'Competitors',\n",
       "       'hourly', 'employer_provided', 'min_salary', 'max_salary', 'avg_salary',\n",
       "       'company_txt', 'job_state', 'same_state', 'age', 'python_yn', 'R_yn',\n",
       "       'spark', 'aws', 'excel', 'job_simp', 'seniority', 'desc_len',\n",
       "       'num_comp'],\n",
       "      dtype='object')"
      ]
     },
     "execution_count": 3,
     "metadata": {},
     "output_type": "execute_result"
    }
   ],
   "source": [
    "df.columns"
   ]
  },
  {
   "cell_type": "markdown",
   "id": "23610c17",
   "metadata": {},
   "source": [
    "SELECTING DATA COLUMNS"
   ]
  },
  {
   "cell_type": "code",
   "execution_count": 4,
   "id": "b0023023",
   "metadata": {},
   "outputs": [],
   "source": [
    "df_model = df[['avg_salary', 'Rating', 'Size', 'Type of ownership', 'Industry', 'Sector', 'Revenue', 'num_comp', 'hourly', 'employer_provided', 'min_salary', 'max_salary', 'avg_salary',\n",
    "       'company_txt', 'job_state', 'same_state', 'age', 'python_yn', 'R_yn',\n",
    "       'spark', 'aws', 'excel', 'job_simp', 'seniority', 'desc_len']]"
   ]
  },
  {
   "cell_type": "markdown",
   "id": "aaf1e17a",
   "metadata": {},
   "source": [
    "GET DUMMY DATA"
   ]
  },
  {
   "cell_type": "code",
   "execution_count": 5,
   "id": "676e8615",
   "metadata": {},
   "outputs": [],
   "source": [
    "df_dum = pd.get_dummies(df_model)"
   ]
  },
  {
   "cell_type": "markdown",
   "id": "b4f9e131",
   "metadata": {},
   "source": [
    "TRAIN AND TEST SPLIT"
   ]
  },
  {
   "cell_type": "code",
   "execution_count": 6,
   "id": "594d0915",
   "metadata": {},
   "outputs": [],
   "source": [
    "from sklearn.model_selection import train_test_split"
   ]
  },
  {
   "cell_type": "code",
   "execution_count": 7,
   "id": "832c7cbe",
   "metadata": {},
   "outputs": [],
   "source": [
    "X=df_dum.drop('avg_salary', axis=1)"
   ]
  },
  {
   "cell_type": "code",
   "execution_count": 9,
   "id": "8e923eca",
   "metadata": {},
   "outputs": [],
   "source": [
    "Y = df_dum.avg_salary.values"
   ]
  },
  {
   "cell_type": "code",
   "execution_count": 10,
   "id": "cd9b0d0b",
   "metadata": {},
   "outputs": [],
   "source": [
    "X_train, X_test, Y_train, Y_test = train_test_split(X,Y,test_size=0.2,random_state=42)"
   ]
  },
  {
   "cell_type": "markdown",
   "id": "4da1d02a",
   "metadata": {},
   "source": [
    "LINEAR REGRESSION"
   ]
  },
  {
   "cell_type": "code",
   "execution_count": 11,
   "id": "65370a66",
   "metadata": {},
   "outputs": [
    {
     "data": {
      "text/plain": [
       "LinearRegression()"
      ]
     },
     "execution_count": 11,
     "metadata": {},
     "output_type": "execute_result"
    }
   ],
   "source": [
    "from sklearn.linear_model import LinearRegression\n",
    "lm = LinearRegression()\n",
    "lm.fit(X_train, Y_train)"
   ]
  },
  {
   "cell_type": "code",
   "execution_count": 16,
   "id": "5f7d5cae",
   "metadata": {},
   "outputs": [
    {
     "data": {
      "text/plain": [
       "array([-3.83725460e-04, -6.57816737e-06, -1.48546725e-06])"
      ]
     },
     "execution_count": 16,
     "metadata": {},
     "output_type": "execute_result"
    }
   ],
   "source": [
    "from sklearn.model_selection import cross_val_score\n",
    "cross_val_score(lm,X_train,Y_train,scoring='neg_mean_absolute_error', cv=3)"
   ]
  },
  {
   "cell_type": "code",
   "execution_count": 17,
   "id": "26972a89",
   "metadata": {},
   "outputs": [
    {
     "data": {
      "text/plain": [
       "-0.00013059636499033824"
      ]
     },
     "execution_count": 17,
     "metadata": {},
     "output_type": "execute_result"
    }
   ],
   "source": [
    "from sklearn.model_selection import cross_val_score\n",
    "np.mean(cross_val_score(lm,X_train,Y_train,scoring='neg_mean_absolute_error', cv=3))"
   ]
  },
  {
   "cell_type": "markdown",
   "id": "733b82b2",
   "metadata": {},
   "source": [
    "LASSO REGRESSION"
   ]
  },
  {
   "cell_type": "code",
   "execution_count": 19,
   "id": "9cd965f0",
   "metadata": {},
   "outputs": [],
   "source": [
    "from sklearn.linear_model import Lasso"
   ]
  },
  {
   "cell_type": "code",
   "execution_count": null,
   "id": "39159c78",
   "metadata": {},
   "outputs": [],
   "source": [
    "lm_l = Lasso(aplha=.13)"
   ]
  },
  {
   "cell_type": "code",
   "execution_count": null,
   "id": "8af1bc90",
   "metadata": {},
   "outputs": [],
   "source": [
    "lm_l.fit(X_train,Y_train)"
   ]
  },
  {
   "cell_type": "code",
   "execution_count": null,
   "id": "cdeb9ad5",
   "metadata": {},
   "outputs": [],
   "source": []
  },
  {
   "cell_type": "code",
   "execution_count": 21,
   "id": "1e253a19",
   "metadata": {},
   "outputs": [
    {
     "data": {
      "text/plain": [
       "-0.025997455463735258"
      ]
     },
     "execution_count": 21,
     "metadata": {},
     "output_type": "execute_result"
    }
   ],
   "source": [
    "np.mean(cross_val_score(lm_l,X_train,Y_train,scoring='neg_mean_absolute_error', cv=3))"
   ]
  },
  {
   "cell_type": "code",
   "execution_count": 25,
   "id": "4a3a77a0",
   "metadata": {},
   "outputs": [
    {
     "data": {
      "text/plain": [
       "[<matplotlib.lines.Line2D at 0x2697d283f70>]"
      ]
     },
     "execution_count": 25,
     "metadata": {},
     "output_type": "execute_result"
    },
    {
     "data": {
      "image/png": "[encoded data removed]",
      "text/plain": [
       "<Figure size 432x288 with 1 Axes>"
      ]
     },
     "metadata": {
      "needs_background": "light"
     },
     "output_type": "display_data"
    }
   ],
   "source": [
    "alpha=[]\n",
    "error=[]\n",
    "for i in range(1,100):\n",
    "    alpha.append(i/100)\n",
    "    lml = Lasso(alpha=(i/100))\n",
    "    error.append(np.mean(cross_val_score(lml,X_train,Y_train,scoring='neg_mean_absolute_error', cv=3)))\n",
    "plt.plot(alpha,error)"
   ]
  },
  {
   "cell_type": "code",
   "execution_count": 26,
   "id": "3da2176c",
   "metadata": {},
   "outputs": [],
   "source": [
    "err = tuple(zip(alpha,error))\n"
   ]
  },
  {
   "cell_type": "code",
   "execution_count": 27,
   "id": "880c900c",
   "metadata": {},
   "outputs": [],
   "source": [
    "df_err = pd.DataFrame(err, columns = ['aplha', 'error'])"
   ]
  },
  {
   "cell_type": "code",
   "execution_count": 28,
   "id": "11dc27e9",
   "metadata": {},
   "outputs": [
    {
     "data": {
      "text/html": [
       "<div>\n",
       "<style scoped>\n",
       "    .dataframe tbody tr th:only-of-type {\n",
       "        vertical-align: middle;\n",
       "    }\n",
       "\n",
       "    .dataframe tbody tr th {\n",
       "        vertical-align: top;\n",
       "    }\n",
       "\n",
       "    .dataframe thead th {\n",
       "        text-align: right;\n",
       "    }\n",
       "</style>\n",
       "<table border=\"1\" class=\"dataframe\">\n",
       "  <thead>\n",
       "    <tr style=\"text-align: right;\">\n",
       "      <th></th>\n",
       "      <th>aplha</th>\n",
       "      <th>error</th>\n",
       "    </tr>\n",
       "  </thead>\n",
       "  <tbody>\n",
       "    <tr>\n",
       "      <th>6</th>\n",
       "      <td>0.07</td>\n",
       "      <td>-0.001706</td>\n",
       "    </tr>\n",
       "  </tbody>\n",
       "</table>\n",
       "</div>"
      ],
      "text/plain": [
       "   aplha     error\n",
       "6   0.07 -0.001706"
      ]
     },
     "execution_count": 28,
     "metadata": {},
     "output_type": "execute_result"
    }
   ],
   "source": [
    "df_err[df_err.error == max(df_err.error)]"
   ]
  },
  {
   "cell_type": "markdown",
   "id": "257ab2eb",
   "metadata": {},
   "source": [
    "RANDOM FOREST"
   ]
  },
  {
   "cell_type": "code",
   "execution_count": 29,
   "id": "0f22c7e3",
   "metadata": {},
   "outputs": [],
   "source": [
    "from sklearn.ensemble import RandomForestRegressor"
   ]
  },
  {
   "cell_type": "code",
   "execution_count": 30,
   "id": "c0106206",
   "metadata": {},
   "outputs": [],
   "source": [
    "rf = RandomForestRegressor()"
   ]
  },
  {
   "cell_type": "code",
   "execution_count": 32,
   "id": "fcdb6ad2",
   "metadata": {},
   "outputs": [
    {
     "data": {
      "text/plain": [
       "-1.2314704148079783"
      ]
     },
     "execution_count": 32,
     "metadata": {},
     "output_type": "execute_result"
    }
   ],
   "source": [
    "np.mean(cross_val_score(rf,X_train,Y_train,scoring='neg_mean_absolute_error', cv=3))"
   ]
  },
  {
   "cell_type": "code",
   "execution_count": null,
   "id": "40f1ec01",
   "metadata": {},
   "outputs": [],
   "source": [
    "#TUNE MODELS GRIDSEARCHCV\n",
    "from sklearn.model_selection import GridSearchCV\n",
    "parameters = {'n_estimators':range(10,300,10), 'criterion':('mse','mae'), 'max_features':('auto','sqrt','log2')}\n",
    "gs=GridSearchCV(rf, parameters,scoring='neg_mean_absolute_error',cv=3)\n",
    "gs.fit(X_train,Y_train)"
   ]
  },
  {
   "cell_type": "code",
   "execution_count": null,
   "id": "28d2e113",
   "metadata": {},
   "outputs": [],
   "source": [
    "gs.best_score"
   ]
  },
  {
   "cell_type": "code",
   "execution_count": null,
   "id": "8bb3cce4",
   "metadata": {},
   "outputs": [],
   "source": [
    "gs.best_estimator_"
   ]
  },
  {
   "cell_type": "markdown",
   "id": "c93e3111",
   "metadata": {},
   "source": [
    "TEST ENSEMBLES"
   ]
  },
  {
   "cell_type": "code",
   "execution_count": null,
   "id": "506863e4",
   "metadata": {},
   "outputs": [],
   "source": [
    "tpred_lm = lm.predict(X_test)"
   ]
  },
  {
   "cell_type": "code",
   "execution_count": null,
   "id": "7168174d",
   "metadata": {},
   "outputs": [],
   "source": [
    "tpred_lml = lm_l.predict(X_test)"
   ]
  },
  {
   "cell_type": "code",
   "execution_count": null,
   "id": "b01dddef",
   "metadata": {},
   "outputs": [],
   "source": [
    "tpred_rf = gs.best_estimator_.predict(X_test)"
   ]
  },
  {
   "cell_type": "code",
   "execution_count": null,
   "id": "4c3881d7",
   "metadata": {},
   "outputs": [],
   "source": [
    "from sklearn.metrics import mean_absolute_error"
   ]
  },
  {
   "cell_type": "code",
   "execution_count": null,
   "id": "8eb328b0",
   "metadata": {},
   "outputs": [],
   "source": [
    "mean_absolute_error(y_test,tpred_lm)"
   ]
  },
  {
   "cell_type": "code",
   "execution_count": null,
   "id": "9286119f",
   "metadata": {},
   "outputs": [],
   "source": [
    "mean_absolute_error(y_test,tpred_lml)"
   ]
  },
  {
   "cell_type": "code",
   "execution_count": null,
   "id": "bf59d121",
   "metadata": {},
   "outputs": [],
   "source": [
    "mean_absolute_error(y_test,tpred_rf)"
   ]
  },
  {
   "cell_type": "code",
   "execution_count": null,
   "id": "7761d503",
   "metadata": {},
   "outputs": [],
   "source": [
    "mean_absolute_error(y_test,(tpred_lm+tpred_rf)/2)"
   ]
  }
 ],
 "metadata": {
  "kernelspec": {
   "display_name": "Python 3",
   "language": "python",
   "name": "python3"
  },
  "language_info": {
   "codemirror_mode": {
    "name": "ipython",
    "version": 3
   },
   "file_extension": ".py",
   "mimetype": "text/x-python",
   "name": "python",
   "nbconvert_exporter": "python",
   "pygments_lexer": "ipython3",
   "version": "3.8.8"
  }
 },
 "nbformat": 4,
 "nbformat_minor": 5
}
